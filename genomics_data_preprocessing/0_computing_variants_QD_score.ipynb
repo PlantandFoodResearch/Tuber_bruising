{
 "cells": [
  {
   "cell_type": "markdown",
   "metadata": {},
   "source": [
    "# Potato genomic data analysis - Data preprocessing\n",
    "\n",
    "*Olivia Angelin-Bonnet*\n",
    "\n",
    "Preprocessing of the potato genomic data using scikit-allel."
   ]
  },
  {
   "cell_type": "markdown",
   "metadata": {
    "toc": true
   },
   "source": [
    "<h1>Table of Contents<span class=\"tocSkip\"></span></h1>\n",
    "<div class=\"toc\"><ul class=\"toc-item\"><li><span><a href=\"#Computing-variants-QD\" data-toc-modified-id=\"Computing-variants-QD-1\"><span class=\"toc-item-num\">1&nbsp;&nbsp;</span>Computing variants QD</a></span></li><li><span><a href=\"#Reading-the-VCF-file\" data-toc-modified-id=\"Reading-the-VCF-file-2\"><span class=\"toc-item-num\">2&nbsp;&nbsp;</span>Reading the VCF file</a></span></li><li><span><a href=\"#Reading-annotation-file\" data-toc-modified-id=\"Reading-annotation-file-3\"><span class=\"toc-item-num\">3&nbsp;&nbsp;</span>Reading annotation file</a></span></li></ul></div>"
   ]
  },
  {
   "cell_type": "code",
   "execution_count": 9,
   "metadata": {},
   "outputs": [],
   "source": [
    "import os\n",
    "import allel\n",
    "import h5py\n",
    "import sys\n",
    "import shlex, subprocess\n",
    "import pandas as pd\n",
    "import matplotlib as mpl\n",
    "%matplotlib inline\n",
    "import numpy as np\n",
    "import matplotlib.pyplot as plt\n",
    "from IPython.core.interactiveshell import InteractiveShell\n",
    "from itertools import compress\n",
    "InteractiveShell.ast_node_interactivity = \"all\"\n",
    "#hv.extension('bokeh')"
   ]
  },
  {
   "cell_type": "code",
   "execution_count": 10,
   "metadata": {},
   "outputs": [],
   "source": [
    "plt.rcParams['figure.figsize'] = [15, 15]"
   ]
  },
  {
   "cell_type": "code",
   "execution_count": 11,
   "metadata": {},
   "outputs": [
    {
     "name": "stdout",
     "output_type": "stream",
     "text": [
      "Library versions:\n",
      "scikit-allel: 1.2.1\n",
      "h5py: 2.10.0\n"
     ]
    }
   ],
   "source": [
    "# Versions\n",
    "\n",
    "print('Library versions:')\n",
    "print('scikit-allel:' ,allel.__version__)\n",
    "print('h5py:' ,h5py.__version__)"
   ]
  },
  {
   "cell_type": "code",
   "execution_count": 12,
   "metadata": {},
   "outputs": [],
   "source": [
    "## File paths\n",
    "data_path = \"../data/\"\n",
    "\n",
    "vcf_file = data_path + \"VCF/variants_raw_PGSCv4.03.vcf.gz\"\n",
    "gtf_path = data_path + 'PGSC_DM_V403_fixed_representative_genes.gtf'"
   ]
  },
  {
   "cell_type": "code",
   "execution_count": 13,
   "metadata": {},
   "outputs": [],
   "source": [
    "## To make sure the folder \"processed_data\" exists\n",
    "cmd = \"mkdir -p processed_data\"\n",
    "subprocess.run(shlex.split(cmd));"
   ]
  },
  {
   "cell_type": "markdown",
   "metadata": {},
   "source": [
    "## Computing variants QD"
   ]
  },
  {
   "cell_type": "code",
   "execution_count": 14,
   "metadata": {},
   "outputs": [],
   "source": [
    "vcf_h5_file = \"processed_data/vcf_all_samples.h5\" "
   ]
  },
  {
   "cell_type": "code",
   "execution_count": 15,
   "metadata": {},
   "outputs": [],
   "source": [
    "## Reading the VCF file and save it in vcf_all_samples.h5\n",
    "## Uncomment if running for the first time\n",
    "\n",
    "#allel.vcf_to_hdf5(vcf_file, \n",
    "#        vcf_h5_file,\n",
    "#        fields = \"*\", ## Get all fields from the VCF file\n",
    "#        numbers={'GT': 4}, ## ploidy of 4\n",
    "#        overwrite = True,\n",
    "#        log = sys.stdout)"
   ]
  },
  {
   "cell_type": "code",
   "execution_count": 16,
   "metadata": {},
   "outputs": [
    {
     "name": "stdout",
     "output_type": "stream",
     "text": [
      " ----- Genotype ----- \n"
     ]
    },
    {
     "data": {
      "text/html": [
       "<div class=\"allel allel-DisplayAs2D\"><span>&lt;GenotypeChunkedArray shape=(1388205, 390, 4) dtype=int8\n",
       "   nbytes=2.0G\n",
       "   values=numpy.ndarray&gt;</span><table><thead><tr><th></th><th style=\"text-align: center\">0</th><th style=\"text-align: center\">1</th><th style=\"text-align: center\">2</th><th style=\"text-align: center\">3</th><th style=\"text-align: center\">4</th><th style=\"text-align: center\">...</th><th style=\"text-align: center\">385</th><th style=\"text-align: center\">386</th><th style=\"text-align: center\">387</th><th style=\"text-align: center\">388</th><th style=\"text-align: center\">389</th></tr></thead><tbody><tr><th style=\"text-align: center; background-color: white; border-right: 1px solid black; \">0</th><td style=\"text-align: center\">./././.</td><td style=\"text-align: center\">0/0/0/0</td><td style=\"text-align: center\">0/0/0/0</td><td style=\"text-align: center\">0/0/0/0</td><td style=\"text-align: center\">0/0/0/0</td><td style=\"text-align: center\">...</td><td style=\"text-align: center\">0/0/0/0</td><td style=\"text-align: center\">0/0/0/0</td><td style=\"text-align: center\">0/0/0/0</td><td style=\"text-align: center\">0/0/0/0</td><td style=\"text-align: center\">0/0/0/0</td></tr><tr><th style=\"text-align: center; background-color: white; border-right: 1px solid black; \">1</th><td style=\"text-align: center\">./././.</td><td style=\"text-align: center\">0/0/0/0</td><td style=\"text-align: center\">0/0/0/0</td><td style=\"text-align: center\">0/0/0/0</td><td style=\"text-align: center\">0/0/0/0</td><td style=\"text-align: center\">...</td><td style=\"text-align: center\">0/0/0/0</td><td style=\"text-align: center\">0/0/0/0</td><td style=\"text-align: center\">0/0/0/0</td><td style=\"text-align: center\">0/0/0/0</td><td style=\"text-align: center\">0/0/0/0</td></tr><tr><th style=\"text-align: center; background-color: white; border-right: 1px solid black; \">2</th><td style=\"text-align: center\">./././.</td><td style=\"text-align: center\">0/0/0/0</td><td style=\"text-align: center\">0/0/0/0</td><td style=\"text-align: center\">0/0/0/0</td><td style=\"text-align: center\">0/0/0/0</td><td style=\"text-align: center\">...</td><td style=\"text-align: center\">0/0/0/0</td><td style=\"text-align: center\">0/0/0/0</td><td style=\"text-align: center\">0/0/0/0</td><td style=\"text-align: center\">0/0/0/0</td><td style=\"text-align: center\">0/0/0/0</td></tr><tr><th style=\"text-align: center; background-color: white; border-right: 1px solid black; \">...</th><td style=\"text-align: center\" colspan=\"12\">...</td></tr><tr><th style=\"text-align: center; background-color: white; border-right: 1px solid black; \">1388202</th><td style=\"text-align: center\">./././.</td><td style=\"text-align: center\">0/0/0/0</td><td style=\"text-align: center\">0/0/0/0</td><td style=\"text-align: center\">0/0/0/0</td><td style=\"text-align: center\">0/0/0/0</td><td style=\"text-align: center\">...</td><td style=\"text-align: center\">0/0/0/1</td><td style=\"text-align: center\">0/0/0/1</td><td style=\"text-align: center\">0/0/0/0</td><td style=\"text-align: center\">0/0/0/1</td><td style=\"text-align: center\">0/0/0/0</td></tr><tr><th style=\"text-align: center; background-color: white; border-right: 1px solid black; \">1388203</th><td style=\"text-align: center\">./././.</td><td style=\"text-align: center\">0/0/0/0</td><td style=\"text-align: center\">0/0/0/0</td><td style=\"text-align: center\">0/0/0/0</td><td style=\"text-align: center\">0/0/0/0</td><td style=\"text-align: center\">...</td><td style=\"text-align: center\">0/0/0/1</td><td style=\"text-align: center\">0/0/0/1</td><td style=\"text-align: center\">0/0/0/0</td><td style=\"text-align: center\">0/0/0/1</td><td style=\"text-align: center\">0/0/0/0</td></tr><tr><th style=\"text-align: center; background-color: white; border-right: 1px solid black; \">1388204</th><td style=\"text-align: center\">./././.</td><td style=\"text-align: center\">0/0/0/0</td><td style=\"text-align: center\">0/0/0/0</td><td style=\"text-align: center\">0/0/0/0</td><td style=\"text-align: center\">0/0/0/0</td><td style=\"text-align: center\">...</td><td style=\"text-align: center\">0/0/0/0</td><td style=\"text-align: center\">0/0/0/0</td><td style=\"text-align: center\">0/0/0/0</td><td style=\"text-align: center\">0/0/0/0</td><td style=\"text-align: center\">0/0/0/0</td></tr></tbody></table></div>"
      ],
      "text/plain": [
       "<GenotypeChunkedArray shape=(1388205, 390, 4) dtype=int8\n",
       "   nbytes=2.0G\n",
       "   values=numpy.ndarray>"
      ]
     },
     "execution_count": 16,
     "metadata": {},
     "output_type": "execute_result"
    },
    {
     "name": "stdout",
     "output_type": "stream",
     "text": [
      " ----- Dosage ----- \n"
     ]
    },
    {
     "data": {
      "text/plain": [
       "array([[0, 0, 0, ..., 0, 0, 0],\n",
       "       [0, 0, 0, ..., 0, 0, 0],\n",
       "       [0, 0, 0, ..., 0, 0, 0],\n",
       "       ...,\n",
       "       [0, 0, 0, ..., 0, 1, 0],\n",
       "       [0, 0, 0, ..., 0, 1, 0],\n",
       "       [0, 0, 0, ..., 0, 0, 0]], dtype=int8)"
      ]
     },
     "execution_count": 16,
     "metadata": {},
     "output_type": "execute_result"
    },
    {
     "data": {
      "text/plain": [
       "(1388205, 390)"
      ]
     },
     "execution_count": 16,
     "metadata": {},
     "output_type": "execute_result"
    },
    {
     "name": "stdout",
     "output_type": "stream",
     "text": [
      " ----- DP all samples ----- \n"
     ]
    },
    {
     "data": {
      "text/plain": [
       "array([[-1,  3, 14, ...,  4,  6,  6],\n",
       "       [-1,  3, 15, ...,  4,  5,  6],\n",
       "       [-1,  3, 20, ...,  2,  6,  6],\n",
       "       ...,\n",
       "       [-1,  6, 10, ..., 10,  9,  3],\n",
       "       [-1,  6,  9, ..., 10,  9,  3],\n",
       "       [-1,  6,  9, ..., 10,  9,  3]], dtype=int16)"
      ]
     },
     "execution_count": 16,
     "metadata": {},
     "output_type": "execute_result"
    },
    {
     "name": "stdout",
     "output_type": "stream",
     "text": [
      " ----- DP non-hom-ref samples ----- \n"
     ]
    },
    {
     "data": {
      "text/plain": [
       "array([[0, 0, 0, ..., 0, 0, 0],\n",
       "       [0, 0, 0, ..., 0, 0, 0],\n",
       "       [0, 0, 0, ..., 0, 0, 0],\n",
       "       ...,\n",
       "       [0, 0, 0, ..., 0, 9, 0],\n",
       "       [0, 0, 0, ..., 0, 9, 0],\n",
       "       [0, 0, 0, ..., 0, 0, 0]], dtype=int16)"
      ]
     },
     "execution_count": 16,
     "metadata": {},
     "output_type": "execute_result"
    },
    {
     "name": "stdout",
     "output_type": "stream",
     "text": [
      " ----- DP sum over non-hom-ref samples ----- \n"
     ]
    },
    {
     "data": {
      "text/plain": [
       "array([ 158,  157,  165, ..., 1965, 2449,    8])"
      ]
     },
     "execution_count": 16,
     "metadata": {},
     "output_type": "execute_result"
    },
    {
     "name": "stdout",
     "output_type": "stream",
     "text": [
      " ----- QUAL ----- \n"
     ]
    },
    {
     "data": {
      "text/plain": [
       "array([  895.815 ,   904.385 ,  1168.31  , ...,  6795.8   , 13005.    ,\n",
       "          78.9149], dtype=float32)"
      ]
     },
     "execution_count": 16,
     "metadata": {},
     "output_type": "execute_result"
    },
    {
     "name": "stdout",
     "output_type": "stream",
     "text": [
      " ----- QD ----- \n"
     ]
    },
    {
     "data": {
      "text/plain": [
       "array([5.66971521, 5.76041407, 7.08066702, ..., 3.45842229, 5.31033075,\n",
       "       9.86436272])"
      ]
     },
     "execution_count": 16,
     "metadata": {},
     "output_type": "execute_result"
    },
    {
     "data": {
      "text/plain": [
       "1388205"
      ]
     },
     "execution_count": 16,
     "metadata": {},
     "output_type": "execute_result"
    }
   ],
   "source": [
    "## Reading the VCF info saved in a h5 object\n",
    "callset_all_samples = h5py.File(vcf_h5_file, mode = \"r\")\n",
    "\n",
    "## Saving variant genotype for each sample as \"matrix\"\n",
    "gt_all_samples = allel.GenotypeChunkedArray(callset_all_samples[\"calldata/GT\"][:,:])\n",
    "print(\" ----- Genotype ----- \")\n",
    "gt_all_samples \n",
    "\n",
    "## Computing dosage\n",
    "dosage_all_samples = gt_all_samples.to_n_alt()[:]\n",
    "print(\" ----- Dosage ----- \")\n",
    "dosage_all_samples\n",
    "dosage_all_samples.shape\n",
    "\n",
    "## Masking all samples that are homozygous for the reference allele\n",
    "non_hom_ref_mask = dosage_all_samples > 0\n",
    "\n",
    "## Getting variants DP for each sample\n",
    "DP_all_samples = callset_all_samples[\"calldata/DP\"][:,:]\n",
    "print(\" ----- DP all samples ----- \")\n",
    "DP_all_samples\n",
    "\n",
    "## Getting matrix of samples DP per variant only for non-hom-ref samples\n",
    "DP_het_samples = np.multiply(DP_all_samples, non_hom_ref_mask)\n",
    "print(\" ----- DP non-hom-ref samples ----- \")\n",
    "DP_het_samples\n",
    "\n",
    "## Getting the total DP for non-hom-ref samples per variants\n",
    "DP_sum_het_samples = np.sum(DP_het_samples, axis = 1)\n",
    "print(\" ----- DP sum over non-hom-ref samples ----- \")\n",
    "DP_sum_het_samples\n",
    "\n",
    "QUAL_all_samples = callset_all_samples[\"variants/QUAL\"][:]\n",
    "## QUAL score of variants with no reads set to 0\n",
    "QUAL_all_samples[DP_sum_het_samples == 0] = 0\n",
    "print(\" ----- QUAL ----- \")\n",
    "QUAL_all_samples\n",
    "\n",
    "## For computation purpose, to avoid division by 0 (since the QUAL of the corresponding variants\n",
    "##is set to 0 the resulting QD will be 0)\n",
    "null_DP_sum = (DP_sum_het_samples == 0)\n",
    "DP_sum_het_samples[null_DP_sum] = 1 \n",
    "\n",
    "QD = QUAL_all_samples / DP_sum_het_samples\n",
    "print(\" ----- QD ----- \")\n",
    "QD\n",
    "len(QD)\n",
    "\n",
    "## For verification\n",
    "DP_sum_het_samples[null_DP_sum] = 0 "
   ]
  },
  {
   "cell_type": "code",
   "execution_count": 17,
   "metadata": {},
   "outputs": [
    {
     "data": {
      "text/plain": [
       "(1388205, 3)"
      ]
     },
     "execution_count": 17,
     "metadata": {},
     "output_type": "execute_result"
    },
    {
     "data": {
      "text/html": [
       "<div>\n",
       "<style scoped>\n",
       "    .dataframe tbody tr th:only-of-type {\n",
       "        vertical-align: middle;\n",
       "    }\n",
       "\n",
       "    .dataframe tbody tr th {\n",
       "        vertical-align: top;\n",
       "    }\n",
       "\n",
       "    .dataframe thead th {\n",
       "        text-align: right;\n",
       "    }\n",
       "</style>\n",
       "<table border=\"1\" class=\"dataframe\">\n",
       "  <thead>\n",
       "    <tr style=\"text-align: right;\">\n",
       "      <th></th>\n",
       "      <th>CHROM</th>\n",
       "      <th>POS</th>\n",
       "      <th>QD</th>\n",
       "    </tr>\n",
       "  </thead>\n",
       "  <tbody>\n",
       "    <tr>\n",
       "      <th>0</th>\n",
       "      <td>ST4.03ch00</td>\n",
       "      <td>172233</td>\n",
       "      <td>5.669715</td>\n",
       "    </tr>\n",
       "    <tr>\n",
       "      <th>1</th>\n",
       "      <td>ST4.03ch00</td>\n",
       "      <td>172236</td>\n",
       "      <td>5.760414</td>\n",
       "    </tr>\n",
       "    <tr>\n",
       "      <th>2</th>\n",
       "      <td>ST4.03ch00</td>\n",
       "      <td>172252</td>\n",
       "      <td>7.080667</td>\n",
       "    </tr>\n",
       "    <tr>\n",
       "      <th>3</th>\n",
       "      <td>ST4.03ch00</td>\n",
       "      <td>172267</td>\n",
       "      <td>5.720740</td>\n",
       "    </tr>\n",
       "    <tr>\n",
       "      <th>4</th>\n",
       "      <td>ST4.03ch00</td>\n",
       "      <td>172268</td>\n",
       "      <td>5.914386</td>\n",
       "    </tr>\n",
       "  </tbody>\n",
       "</table>\n",
       "</div>"
      ],
      "text/plain": [
       "        CHROM     POS        QD\n",
       "0  ST4.03ch00  172233  5.669715\n",
       "1  ST4.03ch00  172236  5.760414\n",
       "2  ST4.03ch00  172252  7.080667\n",
       "3  ST4.03ch00  172267  5.720740\n",
       "4  ST4.03ch00  172268  5.914386"
      ]
     },
     "execution_count": 17,
     "metadata": {},
     "output_type": "execute_result"
    },
    {
     "data": {
      "text/html": [
       "<div>\n",
       "<style scoped>\n",
       "    .dataframe tbody tr th:only-of-type {\n",
       "        vertical-align: middle;\n",
       "    }\n",
       "\n",
       "    .dataframe tbody tr th {\n",
       "        vertical-align: top;\n",
       "    }\n",
       "\n",
       "    .dataframe thead th {\n",
       "        text-align: right;\n",
       "    }\n",
       "</style>\n",
       "<table border=\"1\" class=\"dataframe\">\n",
       "  <thead>\n",
       "    <tr style=\"text-align: right;\">\n",
       "      <th></th>\n",
       "      <th>CHROM</th>\n",
       "      <th>POS</th>\n",
       "      <th>QD</th>\n",
       "    </tr>\n",
       "  </thead>\n",
       "  <tbody>\n",
       "    <tr>\n",
       "      <th>1388200</th>\n",
       "      <td>ST4.03ch12</td>\n",
       "      <td>61148638</td>\n",
       "      <td>3.057741</td>\n",
       "    </tr>\n",
       "    <tr>\n",
       "      <th>1388201</th>\n",
       "      <td>ST4.03ch12</td>\n",
       "      <td>61148639</td>\n",
       "      <td>3.021877</td>\n",
       "    </tr>\n",
       "    <tr>\n",
       "      <th>1388202</th>\n",
       "      <td>ST4.03ch12</td>\n",
       "      <td>61148641</td>\n",
       "      <td>3.458422</td>\n",
       "    </tr>\n",
       "    <tr>\n",
       "      <th>1388203</th>\n",
       "      <td>ST4.03ch12</td>\n",
       "      <td>61148643</td>\n",
       "      <td>5.310331</td>\n",
       "    </tr>\n",
       "    <tr>\n",
       "      <th>1388204</th>\n",
       "      <td>ST4.03ch12</td>\n",
       "      <td>61148645</td>\n",
       "      <td>9.864363</td>\n",
       "    </tr>\n",
       "  </tbody>\n",
       "</table>\n",
       "</div>"
      ],
      "text/plain": [
       "              CHROM       POS        QD\n",
       "1388200  ST4.03ch12  61148638  3.057741\n",
       "1388201  ST4.03ch12  61148639  3.021877\n",
       "1388202  ST4.03ch12  61148641  3.458422\n",
       "1388203  ST4.03ch12  61148643  5.310331\n",
       "1388204  ST4.03ch12  61148645  9.864363"
      ]
     },
     "execution_count": 17,
     "metadata": {},
     "output_type": "execute_result"
    }
   ],
   "source": [
    "## Saving QD information\n",
    "\n",
    "QDdf = pd.DataFrame({\n",
    "    \"CHROM\": callset_all_samples[\"variants/CHROM\"][:],\n",
    "    \"POS\": callset_all_samples[\"variants/POS\"][:],\n",
    "    \"QD\": QD\n",
    "})\n",
    "\n",
    "QDdf.shape\n",
    "QDdf.head()\n",
    "QDdf.tail()\n",
    "\n",
    "QDdf.to_csv(\"processed_data/variants_QDscore.csv\", index = False)"
   ]
  },
  {
   "cell_type": "code",
   "execution_count": 18,
   "metadata": {},
   "outputs": [],
   "source": [
    "def plot_loghist(x, xlab = \"\", ylab = \"\", title = \"\", bins = 30):\n",
    "    hist, bins = np.histogram(x, bins = bins)\n",
    "    logbins = np.logspace(np.log10(bins[0]),np.log10(bins[-1]),len(bins))\n",
    "    plt.hist(x, bins=logbins)\n",
    "    plt.xscale('log')\n",
    "    plt.xlabel(xlab)\n",
    "    plt.ylabel(ylab)\n",
    "    plt.title(title)\n",
    "    plt.show()"
   ]
  },
  {
   "cell_type": "code",
   "execution_count": 19,
   "metadata": {},
   "outputs": [
    {
     "data": {
      "image/png": "[encoded data removed]",
      "text/plain": [
       "<Figure size 1080x1080 with 1 Axes>"
      ]
     },
     "metadata": {
      "needs_background": "light"
     },
     "output_type": "display_data"
    },
    {
     "name": "stdout",
     "output_type": "stream",
     "text": [
      "67732 ( 4.9 % ) variants with a QD of 0\n"
     ]
    }
   ],
   "source": [
    "plot_loghist(QD[QD > 0],\n",
    "             xlab = \"variants QD\", \n",
    "             ylab = \"Counts\", \n",
    "             title = \"Distribution of QD scores across variants (null QD removed)\")\n",
    "nb_null = np.sum(QD == 0)\n",
    "perc_null = 100 * nb_null / len(QD)\n",
    "print(nb_null, \"(\", round(perc_null, 1), \"% ) variants with a QD of 0\")"
   ]
  }
 ],
 "metadata": {
  "kernelspec": {
   "display_name": "Python 3",
   "language": "python",
   "name": "python3"
  },
  "language_info": {
   "codemirror_mode": {
    "name": "ipython",
    "version": 3
   },
   "file_extension": ".py",
   "mimetype": "text/x-python",
   "name": "python",
   "nbconvert_exporter": "python",
   "pygments_lexer": "ipython3",
   "version": "3.6.9"
  },
  "toc": {
   "base_numbering": 1,
   "nav_menu": {
    "height": "264px",
    "width": "381px"
   },
   "number_sections": true,
   "sideBar": true,
   "skip_h1_title": true,
   "title_cell": "Table of Contents",
   "title_sidebar": "Contents",
   "toc_cell": true,
   "toc_position": {
    "height": "calc(100% - 180px)",
    "left": "10px",
    "top": "150px",
    "width": "201px"
   },
   "toc_section_display": true,
   "toc_window_display": true
  }
 },
 "nbformat": 4,
 "nbformat_minor": 2
}
